{
  "nbformat": 4,
  "nbformat_minor": 0,
  "metadata": {
    "colab": {
      "provenance": []
    },
    "kernelspec": {
      "name": "python3",
      "display_name": "Python 3"
    },
    "language_info": {
      "name": "python"
    }
  },
  "cells": [
    {
      "cell_type": "code",
      "execution_count": 1,
      "metadata": {
        "colab": {
          "base_uri": "https://localhost:8080/"
        },
        "id": "hVchrhUqqGEm",
        "outputId": "351bc923-4ec0-4381-df6e-8e3091031cee"
      },
      "outputs": [
        {
          "output_type": "stream",
          "name": "stdout",
          "text": [
            "Simulated Annealing Solution (4-Queens): [2, 0, 3, 1]\n",
            "Number of Attacking Pairs: 0\n"
          ]
        }
      ],
      "source": [
        "import math\n",
        "import random\n",
        "\n",
        "def calculate_attacking_pairs(board):\n",
        "    \"\"\"\n",
        "    Calculate the number of attacking pairs on the board.\n",
        "    \"\"\"\n",
        "    attacking_pairs = 0\n",
        "    n = len(board)\n",
        "    for i in range(n):\n",
        "        for j in range(i + 1, n):\n",
        "            # Same column or same diagonal\n",
        "            if board[i] == board[j] or abs(board[i] - board[j]) == abs(i - j):\n",
        "                attacking_pairs += 1\n",
        "    return attacking_pairs\n",
        "\n",
        "def get_random_neighbor(board):\n",
        "    \"\"\"\n",
        "    Generate a random neighbor by moving a queen in a random column.\n",
        "    \"\"\"\n",
        "    n = len(board)\n",
        "    neighbor = board[:]\n",
        "    col = random.randint(0, n - 1)\n",
        "    row = random.randint(0, n - 1)\n",
        "    neighbor[col] = row\n",
        "    return neighbor\n",
        "\n",
        "def simulated_annealing(n, initial_temp=100, cooling_rate=0.95, max_steps=1000):\n",
        "    \"\"\"\n",
        "    Solve the N-Queens problem using the Simulated Annealing algorithm.\n",
        "    \"\"\"\n",
        "    # Randomly initialize the board\n",
        "    board = [random.randint(0, n - 1) for _ in range(n)]\n",
        "    current_temp = initial_temp\n",
        "\n",
        "    for step in range(max_steps):\n",
        "        current_attacks = calculate_attacking_pairs(board)\n",
        "        if current_attacks == 0:  # Found a solution\n",
        "            break\n",
        "        neighbor = get_random_neighbor(board)\n",
        "        neighbor_attacks = calculate_attacking_pairs(neighbor)\n",
        "        delta = neighbor_attacks - current_attacks\n",
        "        # Always accept a better solution, otherwise accept probabilistically\n",
        "        if delta < 0 or random.random() < math.exp(-delta / current_temp):\n",
        "            board = neighbor\n",
        "        # Cool down the temperature\n",
        "        current_temp *= cooling_rate\n",
        "\n",
        "    return board, calculate_attacking_pairs(board)\n",
        "\n",
        "# Solve for 4-Queens\n",
        "if __name__ == \"__main__\":\n",
        "    n = 4\n",
        "    solution, attacks = simulated_annealing(n)\n",
        "    print(\"Simulated Annealing Solution (4-Queens):\", solution)\n",
        "    print(\"Number of Attacking Pairs:\", attacks)\n"
      ]
    }
  ]
}