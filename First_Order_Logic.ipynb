{
  "nbformat": 4,
  "nbformat_minor": 0,
  "metadata": {
    "colab": {
      "provenance": []
    },
    "kernelspec": {
      "name": "python3",
      "display_name": "Python 3"
    },
    "language_info": {
      "name": "python"
    }
  },
  "cells": [
    {
      "cell_type": "code",
      "execution_count": 3,
      "metadata": {
        "id": "46RHA9zSeHlI",
        "colab": {
          "base_uri": "https://localhost:8080/"
        },
        "outputId": "62492f08-1719-4c04-dfa2-dae2966d14a5"
      },
      "outputs": [
        {
          "output_type": "stream",
          "name": "stdout",
          "text": [
            "New facts inferred: {'Hostile(A)', 'Sells(Robert, T1, A)', 'Weapon(T1)'}\n",
            "New facts inferred: {'Criminal(Robert)'}\n",
            "Robert is a criminal.\n"
          ]
        }
      ],
      "source": [
        "# Knowledge Base (KB)\n",
        "knowledge_base = set()\n",
        "inferred_facts = set()  # Set to track newly inferred facts to avoid infinite looping\n",
        "\n",
        "# Add facts to the knowledge base\n",
        "def add_fact(fact):\n",
        "    knowledge_base.add(fact)\n",
        "\n",
        "# Define inference rules\n",
        "def apply_inference():\n",
        "    new_facts = set()\n",
        "\n",
        "    # Rule 1: Enemy(A, America) => Hostile(A)\n",
        "    if 'Enemy(A, America)' in knowledge_base and 'Hostile(A)' not in knowledge_base:\n",
        "        new_facts.add('Hostile(A)')\n",
        "\n",
        "    # Rule 2: Missile(T1) => Weapon(T1)\n",
        "    if 'Missile(T1)' in knowledge_base and 'Weapon(T1)' not in knowledge_base:\n",
        "        new_facts.add('Weapon(T1)')\n",
        "\n",
        "    # Rule 3: Missile(T1) ∧ Owns(A, T1) => Sells(Robert, T1, A)\n",
        "    if 'Missile(T1)' in knowledge_base and 'Owns(A, T1)' in knowledge_base and 'Sells(Robert, T1, A)' not in knowledge_base:\n",
        "        new_facts.add('Sells(Robert, T1, A)')\n",
        "\n",
        "    # Rule 4: American(Robert) ∧ Weapon(T1) ∧ Sells(Robert, T1, A) ∧ Hostile(A) => Criminal(Robert)\n",
        "    if 'American(Robert)' in knowledge_base and 'Weapon(T1)' in knowledge_base and \\\n",
        "       'Sells(Robert, T1, A)' in knowledge_base and 'Hostile(A)' in knowledge_base and 'Criminal(Robert)' not in knowledge_base:\n",
        "        new_facts.add('Criminal(Robert)')\n",
        "\n",
        "    return new_facts\n",
        "\n",
        "# Function to perform forward chaining\n",
        "def forward_chaining():\n",
        "    # Initially, we add facts to the KB (knowledge base)\n",
        "    add_fact('American(Robert)')\n",
        "    add_fact('Missile(T1)')\n",
        "    add_fact('Owns(A, T1)')\n",
        "    add_fact('Enemy(A, America)')\n",
        "\n",
        "    # Keep applying inference rules until no new facts are generated\n",
        "    while True:\n",
        "        new_facts = apply_inference()\n",
        "        if not new_facts:\n",
        "            break\n",
        "        # Add new facts to knowledge base\n",
        "        knowledge_base.update(new_facts)\n",
        "        inferred_facts.update(new_facts)  # Keep track of newly inferred facts\n",
        "        print(\"New facts inferred:\", new_facts)\n",
        "\n",
        "    # Check if the query is in the knowledge base (i.e., Robert is a criminal)\n",
        "    if 'Criminal(Robert)' in knowledge_base:\n",
        "        print(\"Robert is a criminal.\")\n",
        "    else:\n",
        "        print(\"Robert is not a criminal.\")\n",
        "\n",
        "# Run forward chaining to solve the problem\n",
        "forward_chaining()\n"
      ]
    }
  ]
}