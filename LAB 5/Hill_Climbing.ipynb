{
  "nbformat": 4,
  "nbformat_minor": 0,
  "metadata": {
    "colab": {
      "provenance": []
    },
    "kernelspec": {
      "name": "python3",
      "display_name": "Python 3"
    },
    "language_info": {
      "name": "python"
    }
  },
  "cells": [
    {
      "cell_type": "code",
      "execution_count": 1,
      "metadata": {
        "colab": {
          "base_uri": "https://localhost:8080/"
        },
        "id": "Nh_0CzTGp7Vp",
        "outputId": "a2b462b5-0fa1-4e78-e022-d8bf626fb77d"
      },
      "outputs": [
        {
          "output_type": "stream",
          "name": "stdout",
          "text": [
            "Hill Climbing Solution (4-Queens): [1, 3, 0, 2]\n",
            "Number of Attacking Pairs: 0\n"
          ]
        }
      ],
      "source": [
        "import random\n",
        "\n",
        "def calculate_attacking_pairs(board):\n",
        "    \"\"\"\n",
        "    Calculate the number of attacking pairs on the board.\n",
        "    \"\"\"\n",
        "    attacking_pairs = 0\n",
        "    n = len(board)\n",
        "    for i in range(n):\n",
        "        for j in range(i + 1, n):\n",
        "            # Same column or same diagonal\n",
        "            if board[i] == board[j] or abs(board[i] - board[j]) == abs(i - j):\n",
        "                attacking_pairs += 1\n",
        "    return attacking_pairs\n",
        "\n",
        "def get_neighbors(board):\n",
        "    \"\"\"\n",
        "    Generate all possible neighbors by moving a queen in each column.\n",
        "    \"\"\"\n",
        "    neighbors = []\n",
        "    n = len(board)\n",
        "    for col in range(n):\n",
        "        for row in range(n):\n",
        "            if row != board[col]:\n",
        "                neighbor = board[:]\n",
        "                neighbor[col] = row\n",
        "                neighbors.append(neighbor)\n",
        "    return neighbors\n",
        "\n",
        "def hill_climbing(n):\n",
        "    \"\"\"\n",
        "    Solve the N-Queens problem using the Hill Climbing algorithm.\n",
        "    \"\"\"\n",
        "    # Randomly initialize the board\n",
        "    board = [random.randint(0, n - 1) for _ in range(n)]\n",
        "    while True:\n",
        "        current_attacks = calculate_attacking_pairs(board)\n",
        "        neighbors = get_neighbors(board)\n",
        "        next_board = min(neighbors, key=calculate_attacking_pairs)\n",
        "        next_attacks = calculate_attacking_pairs(next_board)\n",
        "        if next_attacks >= current_attacks:  # No improvement\n",
        "            break\n",
        "        board = next_board\n",
        "    return board, calculate_attacking_pairs(board)\n",
        "\n",
        "# Solve for 4-Queens\n",
        "if __name__ == \"__main__\":\n",
        "    n = 4\n",
        "    solution, attacks = hill_climbing(n)\n",
        "    print(\"Hill Climbing Solution (4-Queens):\", solution)\n",
        "    print(\"Number of Attacking Pairs:\", attacks)\n"
      ]
    }
  ]
}